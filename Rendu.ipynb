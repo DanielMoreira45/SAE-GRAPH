{
 "cells": [
  {
   "attachments": {},
   "cell_type": "markdown",
   "metadata": {},
   "source": []
  },
  {
   "cell_type": "code",
   "execution_count": 40,
   "metadata": {},
   "outputs": [],
   "source": [
    "import networkx as nx\n",
    "import time\n",
    "import json\n",
    "import matplotlib.pyplot as plt"
   ]
  },
  {
   "attachments": {},
   "cell_type": "markdown",
   "metadata": {},
   "source": [
    "Dans un premier temps, nous avons fait en sorte d'avoir un dictionnaire sous la forme : \n",
    "\n",
    "{Nom_du_Film : {cast : [liste_des_acteurs]}, {director : [liste_des_directeurs]}, {producers : [liste_des_producteurs]}, {companies: [liste_des_companies]}, {year: [Date_de_sorti]}}\n",
    "\n"
   ]
  },
  {
   "cell_type": "code",
   "execution_count": 41,
   "metadata": {},
   "outputs": [],
   "source": [
    "def convert_txt_to_dict(nom_fichier):\n",
    "    \"\"\"charge un fichier de lignes json en dictionnaire \n",
    "\n",
    "    Args:\n",
    "        nom_fichier (str): nom du fichier txt contenant les lignes json\n",
    "\n",
    "    Returns:\n",
    "        dict: le dictionnaire avec le contenus du fichier\n",
    "    \"\"\"\n",
    "    with open(nom_fichier, encoding='utf-8') as fichier_open:\n",
    "        lignes = fichier_open.readlines()\n",
    "        dico = {}\n",
    "        for json_data in lignes:\n",
    "            Data = json.loads(json_data)\n",
    "            titre = Data[\"title\"].replace(\"[[\", \"\").replace(\"]]\", \"\")\n",
    "            cast = [personne.split(\"|\")[0].split(\"(\")[0].replace(\"[[\", \"\").replace(\"]]\", \"\") if \"|\" in personne else personne.replace(\"[[\", \"\").replace(\"]]\", \"\") for personne in Data.get(\"cast\", [])]\n",
    "            directeur = [director.replace(\"[[\", \"\").replace(\"]]\", \"\") for director in Data.get(\"directors\", [])]\n",
    "            producteur = [prod.replace(\"[[\", \"\").replace(\"]]\", \"\") for prod in Data.get(\"producers\", [])]\n",
    "            companies = [comp.replace(\"[[\", \"\").replace(\"]]\", \"\") for comp in Data.get(\"companies\", [])]\n",
    "            annee_sorti = Data.get(\"year\", [])\n",
    "\n",
    "            dico[titre] = {\n",
    "                \"cast\": cast,\n",
    "                \"director\": directeur,\n",
    "                \"producers\": producteur,\n",
    "                \"companies\": companies,\n",
    "                \"year\": annee_sorti\n",
    "            }\n",
    "    return dico\n",
    "\n",
    "dictionnaire_fichier = convert_txt_to_dict(\"medium_data.txt\")"
   ]
  },
  {
   "attachments": {},
   "cell_type": "markdown",
   "metadata": {},
   "source": [
    "Avec ce dictionnaire, nous avons crée le graph"
   ]
  },
  {
   "cell_type": "code",
   "execution_count": 42,
   "metadata": {},
   "outputs": [],
   "source": [
    "def creation_graphe(dico): # complexité quadratique (à améliorer si possible)\n",
    "    g = nx.DiGraph()\n",
    "    acteurs_vue = set()\n",
    "    for film in dico.values():\n",
    "        for i in range(len(film[\"cast\"])):\n",
    "            acteur1 = film[\"cast\"][i]\n",
    "            if acteur1 not in acteurs_vue: \n",
    "                g.add_node(acteur1)\n",
    "                acteurs_vue.add(acteur1)\n",
    "            for b in range(i+1, len(film[\"cast\"])):\n",
    "                acteur2 = film[\"cast\"][b]\n",
    "                if acteur2 not in acteurs_vue:\n",
    "                    g.add_node(acteur2)\n",
    "                    acteurs_vue.add(acteur2)\n",
    "                g.add_edge(acteur1, acteur2, length=10)\n",
    "    return g\n",
    "\n",
    "Graphe = creation_graphe(dictionnaire_fichier)"
   ]
  },
  {
   "attachments": {},
   "cell_type": "markdown",
   "metadata": {},
   "source": [
    "Et le dessiné, pour pouvoir le dessiné nous allons utilisé une petite proportion des données."
   ]
  },
  {
   "cell_type": "code",
   "execution_count": 43,
   "metadata": {},
   "outputs": [],
   "source": [
    "# Le dessin prend beaucoup de temps\n",
    "def dessine_graph(G):\n",
    "    nx.draw(G, with_labels=True)\n",
    "# dessine_graph(creation_graphe(convert_txt_to_dict(\"medium_data.txt\")))"
   ]
  },
  {
   "attachments": {},
   "cell_type": "markdown",
   "metadata": {},
   "source": [
    "La fonction calculer_centralite_acteur, permet d'optenir le centralite d'un acteur dans le graphe.\n",
    "\n",
    "Nous utilisons la fonction closeness_centrality de networkx, qui permet d'optenir la centralité de l'acteur en utilisant le parcour en largeur."
   ]
  },
  {
   "cell_type": "code",
   "execution_count": 44,
   "metadata": {},
   "outputs": [
    {
     "name": "stdout",
     "output_type": "stream",
     "text": [
      "0.002288329519450801\n"
     ]
    }
   ],
   "source": [
    "def calculer_centralite_acteur(Gc, acteur):\n",
    "    return nx.closeness_centrality(Gc, u=acteur)\n",
    "\n",
    "print(calculer_centralite_acteur(Graphe, \"Tommy Lee Jones\"))"
   ]
  },
  {
   "attachments": {},
   "cell_type": "markdown",
   "metadata": {},
   "source": [
    "La fonction trouver_acteur_plus_central permet d'optenir l'acteur qui est le plus au centre du Graphe\n",
    "Pour cela nous utilison encore la fonction closeness_centrality de networkx, pour avoir la centralité de toute les acteurs du graphe, puis optenir le maximum"
   ]
  },
  {
   "cell_type": "code",
   "execution_count": 45,
   "metadata": {},
   "outputs": [],
   "source": [
    "def trouver_acteur_plus_central_networkx(G):\n",
    "    noeud_proximite = nx.closeness_centrality(G)\n",
    "    noeud_central = max(noeud_proximite, key=noeud_proximite.get)\n",
    "    return noeud_central\n",
    "\n",
    "\n",
    "# print(trouver_acteur_plus_central_networkx(Graphe))"
   ]
  },
  {
   "cell_type": "code",
   "execution_count": 46,
   "metadata": {},
   "outputs": [
    {
     "name": "stdout",
     "output_type": "stream",
     "text": [
      "4\n"
     ]
    }
   ],
   "source": [
    "def distance_maximale_entre_acteurs_networkx(G):\n",
    "    distances = []\n",
    "    for acteur1 in G.nodes():\n",
    "        for acteur2 in G.nodes():\n",
    "            if acteur1 != acteur2:\n",
    "                try:\n",
    "                    distance = nx.shortest_path_length(G, acteur1, acteur2)\n",
    "                    distances.append(distance)\n",
    "                except nx.NetworkXNoPath:\n",
    "                    # Si aucun chemin n'existe entre les acteurs, la distance est infinie\n",
    "                    distances.append(0)  # Distance 0 pour représenter une distance infinie\n",
    "    distance_max = max(distances)\n",
    "    return distance_max\n",
    "\n",
    "print(distance_maximale_entre_acteurs_networkx(Graphe))"
   ]
  },
  {
   "cell_type": "code",
   "execution_count": 47,
   "metadata": {},
   "outputs": [],
   "source": [
    "def collaborateurs_proches(G,u,k): # parcours en largeur\n",
    "    \"\"\"Fonction renvoyant l'ensemble des acteurs à distance au plus k de l'acteur u dans le graphe G. La fonction renvoie None si u est absent du graphe.\n",
    "    \n",
    "    Parametres:\n",
    "        G: le graphe\n",
    "        u: le sommet de départ\n",
    "        k: la distance depuis u\n",
    "    \"\"\"\n",
    "    if u not in G.nodes:\n",
    "        print(u,\"est un illustre inconnu\")\n",
    "        return None\n",
    "    collaborateurs = set()\n",
    "    collaborateurs.add(u)\n",
    "    for i in range(k): # on explore les sucesseurs des successeurs et ainsi de suite à un degrès k maximum du noeud u \n",
    "        collaborateurs_directs = set()\n",
    "        for c in collaborateurs:\n",
    "            for voisin in G.adj[c]:\n",
    "                if voisin not in collaborateurs:\n",
    "                    collaborateurs_directs.add(voisin)\n",
    "        collaborateurs = collaborateurs.union(collaborateurs_directs)\n",
    "    return collaborateurs"
   ]
  },
  {
   "cell_type": "code",
   "execution_count": 48,
   "metadata": {},
   "outputs": [],
   "source": [
    "def distance_acteurs_iterative(G,u,v):\n",
    "    distance = 1\n",
    "    trouve = False\n",
    "    if u not in G.nodes or v not in G.nodes:\n",
    "        return None\n",
    "    deja_vu = []\n",
    "    collabs = collaborateurs_proches(G,u,distance)\n",
    "    while distance <= 6 and not trouve:\n",
    "        for acteur in collabs:\n",
    "            if acteur not in deja_vu:\n",
    "                if acteur == v:\n",
    "                    trouve = True\n",
    "                deja_vu.append(acteur)\n",
    "        distance += 1\n",
    "        collabs = collaborateurs_proches(G,u,distance)\n",
    "    return distance"
   ]
  },
  {
   "cell_type": "code",
   "execution_count": 49,
   "metadata": {},
   "outputs": [],
   "source": [
    "def trouver_acteur_plus_central (G,acteur):\n",
    "    cpt = 0\n",
    "    for acteur2 in G.nodes():\n",
    "        if acteur != acteur2:\n",
    "            distance = distance_acteurs_iterative(G,acteur,acteur2)\n",
    "            cpt += distance\n",
    "    return cpt/len(G.nodes)-1\n"
   ]
  },
  {
   "cell_type": "code",
   "execution_count": 50,
   "metadata": {},
   "outputs": [],
   "source": [
    "def trouver_acteur_plus_central_dico (G,dico,acteur):\n",
    "    if acteur in dico.keys():\n",
    "        return dico[acteur]\n",
    "    cpt = 0\n",
    "    for acteur2 in G.nodes():\n",
    "        if acteur != acteur2:\n",
    "            distance = distance_acteurs_iterative(G,acteur,acteur2)\n",
    "            cpt += distance\n",
    "    return cpt/len(G.nodes)-1"
   ]
  },
  {
   "cell_type": "code",
   "execution_count": 51,
   "metadata": {},
   "outputs": [
    {
     "name": "stdout",
     "output_type": "stream",
     "text": [
      "5.9840182648401825\n"
     ]
    }
   ],
   "source": [
    "def distance_maximale_entre_acteurs(G):\n",
    "    distances = {}\n",
    "    for acteur in G.nodes():\n",
    "        distance = trouver_acteur_plus_central_dico(G,distances,acteur)\n",
    "        distances[acteur] = distance\n",
    "    distance_max = max(distances, key = distances.get)\n",
    "    return distances[distance_max]\n",
    "print(distance_maximale_entre_acteurs(Graphe))"
   ]
  },
  {
   "cell_type": "code",
   "execution_count": 53,
   "metadata": {},
   "outputs": [
    {
     "name": "stdout",
     "output_type": "stream",
     "text": [
      "None\n"
     ]
    }
   ],
   "source": [
    "def distance(G, u, v):\n",
    "    if u not in G.nodes or v not in G.nodes:\n",
    "        return None\n",
    "    visite = []  # liste des noeuds déjà visités\n",
    "    file = [[u]]  # queue des chemins à explorer\n",
    "    while file:\n",
    "        chemin = file.pop(0)  #premier chemin de la file d'attente\n",
    "        noeud_courant = chemin[-1]  #dernier noeud du chemin en cours\n",
    "        if noeud_courant not in visite:\n",
    "            voisins = G[noeud_courant] \n",
    "            for voisin in voisins:\n",
    "                nouveau_chemin = list(chemin)  # copie du chemin en cours\n",
    "                nouveau_chemin.append(voisin)  # ajoute le voisin au chemin\n",
    "                file.append(nouveau_chemin)  # ajoute le nouveau chemin à la file d'attente\n",
    "                if voisin == v:\n",
    "                    return len(nouveau_chemin)\n",
    "                if len(file) > G.number_of_nodes():\n",
    "                    return 0  # dans le cas ou il n'y'a pas de relations entre les 2 acteurs, on ne retourne pas None pour la condition distance > val de la fonction eloignement_max(G)\n",
    "        visite.append(noeud_courant)  # le noeud courant est compté comme visité\n",
    "\n",
    "\n",
    "def eloignement_max(G):\n",
    "    max = 0\n",
    "    val = None\n",
    "    for acteur1 in G.nodes:\n",
    "        for acteur2 in G.nodes:\n",
    "            if acteur1!= acteur2:\n",
    "                distanceinit = distance(G,acteur1,acteur2)\n",
    "                if val is None or distanceinit > val:\n",
    "                    max = distanceinit\n",
    "    return max\n",
    "print(eloignement_max(Graphe))"
   ]
  }
 ],
 "metadata": {
  "kernelspec": {
   "display_name": "Python 3",
   "language": "python",
   "name": "python3"
  },
  "language_info": {
   "codemirror_mode": {
    "name": "ipython",
    "version": 3
   },
   "file_extension": ".py",
   "mimetype": "text/x-python",
   "name": "python",
   "nbconvert_exporter": "python",
   "pygments_lexer": "ipython3",
   "version": "3.10.11"
  },
  "orig_nbformat": 4
 },
 "nbformat": 4,
 "nbformat_minor": 2
}
