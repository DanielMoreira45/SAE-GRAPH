{
 "cells": [
  {
   "cell_type": "code",
   "execution_count": null,
   "metadata": {},
   "outputs": [],
   "source": [
    "import networkx as nx\n",
    "import time\n",
    "import json\n",
    "import matplotlib.pyplot as plt"
   ]
  },
  {
   "attachments": {},
   "cell_type": "markdown",
   "metadata": {},
   "source": [
    "# 1 Echauffement\n",
    "\n",
    "Afin de convertir le format de données json au graphe, la conversion fut en 3 étapes : json -> dict() -> Graph(). Nous pourrions directement convertir du json à un graphe networkX, mais la conversion en dictionnaire permet de traiter les données hors cast et le temps d'execution étant faible (3s en moyenne pour la conversion en dico avec le set de donnée entier), on peut se le permettre.\n",
    "\n",
    "Le format adopté :\n",
    "{Nom_du_Film : {cast : [liste_des_acteurs]}, {director : [liste_des_directeurs]}, {producers : [liste_des_producteurs]}, {companies: [liste_des_companies]}, {year: [Date_de_sorti]}}\n",
    "\n",
    "## json -> dict()"
   ]
  },
  {
   "cell_type": "code",
   "execution_count": null,
   "metadata": {},
   "outputs": [],
   "source": [
    "\n",
    "def convert_txt_to_dict(nom_fichier):\n",
    "    \"\"\"charge un fichier de lignes json en dictionnaire \n",
    "\n",
    "    Args:\n",
    "        nom_fichier (str): nom du fichier txt contenant les lignes json\n",
    "\n",
    "    Returns:\n",
    "        dict: le dictionnaire avec le contenus du fichier\n",
    "    \"\"\"\n",
    "    with open(nom_fichier, encoding='utf-8') as fichier_open:\n",
    "        lignes = fichier_open.readlines()\n",
    "        dico = {}\n",
    "        for json_data in lignes:\n",
    "            # gestion des symboles [[]] |\n",
    "            Data = json.loads(json_data)\n",
    "            titre = Data[\"title\"].replace(\"[[\", \"\").replace(\"]]\", \"\")\n",
    "            cast = [personne.split(\"|\")[0].split(\"(\")[0].replace(\"[[\", \"\").replace(\"]]\", \"\") if \"|\" in personne else personne.replace(\"[[\", \"\").replace(\"]]\", \"\") for personne in Data.get(\"cast\", [])]\n",
    "            directeur = [director.replace(\"[[\", \"\").replace(\"]]\", \"\") for director in Data.get(\"directors\", [])]\n",
    "            producteur = [prod.replace(\"[[\", \"\").replace(\"]]\", \"\") for prod in Data.get(\"producers\", [])]\n",
    "            companies = [comp.replace(\"[[\", \"\").replace(\"]]\", \"\") for comp in Data.get(\"companies\", [])]\n",
    "            annee_sorti = Data.get(\"year\", [])\n",
    "            \n",
    "            dico[titre] = {\n",
    "                \"cast\": cast,\n",
    "                \"director\": directeur,\n",
    "                \"producers\": producteur,\n",
    "                \"companies\": companies,\n",
    "                \"year\": annee_sorti\n",
    "            }\n",
    "    return dico\n",
    "\n",
    "dictionnaire_fichier = convert_txt_to_dict(\"medium_data.txt\")"
   ]
  },
  {
   "attachments": {},
   "cell_type": "markdown",
   "metadata": {},
   "source": [
    "## dict() -> Graph()"
   ]
  },
  {
   "cell_type": "code",
   "execution_count": null,
   "metadata": {},
   "outputs": [],
   "source": [
    "\n",
    "\n",
    "def creation_graphe(dico):\n",
    "    \"\"\"créez un graph networkx à partir du dictionnaire issue convert_txt_to_dict().\n",
    "\n",
    "    Args:\n",
    "        nom_dico (dict): nom du dictionnaire au format {Nom_du_Film : {cast : [liste_des_acteurs]}, {director : [liste_des_directeurs]}, {producers : [liste_des_producteurs]}, {companies: [liste_des_companies]}, {year: [Date_de_sorti]}}.\n",
    "\n",
    "    Returns:\n",
    "        networkx.classes.digraph.DiGraph: Graph networkX représentant des relations entre acteurs (cast).\n",
    "    \"\"\"\n",
    "    g = nx.DiGraph()\n",
    "    acteurs_vue = set()\n",
    "    for film in dico.values():\n",
    "        for i in range(len(film[\"cast\"])):\n",
    "            acteur1 = film[\"cast\"][i]\n",
    "            if acteur1 not in acteurs_vue: \n",
    "                g.add_node(acteur1)\n",
    "                acteurs_vue.add(acteur1)\n",
    "            for b in range(i+1, len(film[\"cast\"])): # i+1 pour éviter de rajouter relations à lui-même\n",
    "                acteur2 = film[\"cast\"][b]\n",
    "                if acteur2 not in acteurs_vue:\n",
    "                    g.add_node(acteur2)\n",
    "                    acteurs_vue.add(acteur2)\n",
    "                # on ajoute l'arête dans tout les cas\n",
    "                g.add_edge(acteur1, acteur2, length=10)\n",
    "    return g\n",
    "graphe = creation_graphe(dictionnaire_fichier)"
   ]
  },
  {
   "attachments": {},
   "cell_type": "markdown",
   "metadata": {},
   "source": [
    "Pour le dessin, une petite proportion de données doit être utilisé car l'utilisation de draw de networkX ou des fonctions d'affichage de plt prennent beaucoup de temps.\n",
    "L'affichage des étiquettes (with_labels=False), la taille des noeuds, le type de layout etc.. impacte la performance, nous avons décider de laisser par défaut.\n"
   ]
  },
  {
   "cell_type": "code",
   "execution_count": null,
   "metadata": {},
   "outputs": [],
   "source": [
    "# le dessin peut prendre beaucoup de temps, d'autant plus quand le graph est grand\n",
    "def dessine_graph(G):\n",
    "    nx.draw(G, with_labels=True)\n",
    "# dessine_graph(graphe)"
   ]
  },
  {
   "attachments": {},
   "cell_type": "markdown",
   "metadata": {},
   "source": [
    "# 2. Collaborateurs en commun"
   ]
  },
  {
   "cell_type": "code",
   "execution_count": null,
   "metadata": {},
   "outputs": [],
   "source": [
    "def colab_en_commun(G, u, v):\n",
    "    \"\"\"\n",
    "    Retourne l'ensemble des collaborateurs communs entre deux acteurs du graphe G.\n",
    "\n",
    "    Args:\n",
    "        G (networkx.classes.digraph.DiGraph): Le graphe dans lequel rechercher les collaborateurs communs.\n",
    "        u (node): un acteur.\n",
    "        v (node): un  autre acteur.\n",
    "\n",
    "    Returns:\n",
    "        set: Un ensemble des collaborateurs communs entre u et v.\n",
    "\n",
    "    \"\"\"\n",
    "    collab_commun = set()\n",
    "    if u not in G.nodes or v not in G.nodes:\n",
    "        return None\n",
    "    # on regarde les collaborateurs directes de u et v\n",
    "    for i in G.adj[u]:# O(d(u))\n",
    "        for v in G.adj[v]:# O(d(v))\n",
    "            # pour chaque collaborateur direct en commun, ont ajoute à l'ensemble si celui-ci n'est pas déjà ajoutée,\n",
    "            if i == v and i not in colab_en_commun: # O(1)\n",
    "                collab_commun.add(i)# i ou v cela revient au même car i==v\n",
    "    return collab_commun\n",
    "\n"
   ]
  },
  {
   "attachments": {},
   "cell_type": "markdown",
   "metadata": {},
   "source": [
    "## .a\n",
    "Notion : l'existence d'un acteur/noeud avec un degré de 1 pour les deux acteurs donnés indique qu'il existe un nœud intermédiaire qui est connecté directement à la fois à l'acteur 1 et à l'acteur 2 ou autrement dit qu'un même noeud appartient au voisinage de 2 noeuds différents.\n",
    "$$\\text{CollabComm}(G, u, v) = \\{ i \\mid i \\in V(u) \\cap V(v) \\}$$\n",
    "\n",
    "- i : ensemble des noeuds qui satisfait la condition\n",
    "- V(u) et V(v) respecitivement les voisins de u et v\n",
    "## .b\n",
    "La complexité dépend de la taille de liste d'ajacence de u et v, elle est de $$O(d(u) * O(d(v))$$ en l'occurence car l'on vérifie les collaborateurs en commun en vérifiant toute la liste d'adjacence."
   ]
  },
  {
   "attachments": {},
   "cell_type": "markdown",
   "metadata": {},
   "source": [
    "# 3. Collaborateurs proches "
   ]
  },
  {
   "cell_type": "code",
   "execution_count": null,
   "metadata": {},
   "outputs": [],
   "source": [
    "# la fonction donnée :\n",
    "\n",
    "def collaborateurs_proches(G,u,k): # parcours en largeur\n",
    "    \"\"\"Fonction renvoyant l'ensemble des acteurs à distance au plus k de l'acteur u dans le graphe G. La fonction renvoie None si u est absent du graphe.\n",
    "    \n",
    "    Parametres:\n",
    "        G: le graphe\n",
    "        u: le sommet de départ\n",
    "        k: la distance depuis u\n",
    "    \"\"\"\n",
    "    if u not in G.nodes: # cout linéaire O(1) pour la vérification de l'existance d'un noeud dans un graphe et création des variables\n",
    "        print(u,\"est un illustre inconnu\")\n",
    "        return None\n",
    "    collaborateurs = set()\n",
    "    collaborateurs.add(u)\n",
    "    print(collaborateurs)\n",
    "    for i in range(k): # on explore les sucesseurs des successeurs et ainsi de suite à un degrès k maximum du noeud u \n",
    "        collaborateurs_directs = set() # cout quadratique, proportionelle au  produit du degré moyen des acteurs à la celui de la distance K soit  O(D*K) pour les 2 boucles\n",
    "        for c in collaborateurs:\n",
    "            for voisin in G.adj[c]:\n",
    "                if voisin not in collaborateurs:\n",
    "                    collaborateurs_directs.add(voisin)\n",
    "        collaborateurs = collaborateurs.union(collaborateurs_directs) # le cout de l'union est au plus proportionelle à la taille des ensemble unis qui est le cout des acteurs ajoutées une fois. 0(D*K)\n",
    "    return collaborateurs"
   ]
  },
  {
   "attachments": {},
   "cell_type": "markdown",
   "metadata": {},
   "source": [
    "## a. \n",
    "L'algorithme au coeur de ce graphe est le BFS (Breadth-First Search), en effet l'algorithme va explorer tous les voisins directs avant de passer aux voisins des voisins sucessivement jusqu'à un degré k, ici il va le faire de façon itérative sans utiliser de file. On ne va pas suivre un chemin le plus loin possible puis retourner a l'ancêtre qui possède des chemins encore non visités (DFS)."
   ]
  },
  {
   "attachments": {},
   "cell_type": "markdown",
   "metadata": {},
   "source": [
    "- voir commentaires python\n",
    "\n",
    "on à donc $$O(D*K)+O(D*K) = 2(O(D*K))$$ que l'on peut simplifier à O(D*K) \n",
    "En supposant un nombre moyen de degré des noeuds."
   ]
  },
  {
   "attachments": {},
   "cell_type": "markdown",
   "metadata": {},
   "source": [
    "## b. \n",
    "Afin de déterminer si un acteur u se trouve à une distance k d'un acteur v, la fonction collaborateur en commun s'avère judicieuse, en effet elle nous indique les relations directe et indirectes entre acteurs, nous avons juste à regarder si dans l'ensemble des collaborateurs de u à la distance k, il existe l'acteur v."
   ]
  },
  {
   "cell_type": "code",
   "execution_count": null,
   "metadata": {},
   "outputs": [],
   "source": [
    "def est_a_distance_k(G, u, v, k):\n",
    "    \"\"\"\n",
    "    Vérifie si deux acteurs u et v sont à une distance strictement inférieure a k dans le graphe.\n",
    "\n",
    "    Args:\n",
    "        G (networkx.classes.digraph.DiGraph): Le graphe représentant la relations entre des acteurs.\n",
    "        u (node): L'acteur de départ.\n",
    "        v (node): L'acteur cible.\n",
    "        k (int): La distance à ne pas dépasser.\n",
    "\n",
    "    Returns:\n",
    "        bool: True si u et v sont à une distance strictement inférieure à k, False sinon.\n",
    "    \"\"\"\n",
    "    if u == v:\n",
    "        return True\n",
    "    if k == 0:\n",
    "        return False\n",
    "    collaborateurs = collaborateurs_proches(G, u, k)\n",
    "    return v in collaborateurs \n"
   ]
  },
  {
   "attachments": {},
   "cell_type": "markdown",
   "metadata": {},
   "source": [
    "## c. d.\n",
    "\n",
    "Nous avons vu la manière de determiné si un acteur était dans le rayon d'un autre (réciproquement ducoup), pour determiné la k minimal, la fonction collaborateurs_proches(G,u,k) est une fois de plus pertinente. Nous avons juste à initialiser la distance k à 1, et l'incrémenté jusqu'à avoir l'acteur recherché dans l'ensemble des collaborateur présent dans ce rayon k, que l'on retournera."
   ]
  },
  {
   "cell_type": "code",
   "execution_count": null,
   "metadata": {},
   "outputs": [],
   "source": [
    "def distance_acteurs_iterative(G,u,v):\n",
    "    # initialisation des variables O(1)\n",
    "    distance = 1 # on initialise à un car ça n'a pas de sens un voisinage a 0\n",
    "    trouve = False\n",
    "    # vérification d'appartenance de noeud dans un graph O(1)\n",
    "    if u not in G.nodes or v not in G.nodes:\n",
    "        return None\n",
    "    deja_vu = []\n",
    "    \n",
    "    collabs = collaborateurs_proches(G,u,distance)# O(D*K)\n",
    "    while distance <= 6 and not trouve: # N itération O(D*K)\n",
    "        for acteur in collabs:\n",
    "            if acteur not in deja_vu:\n",
    "                if acteur == v:\n",
    "                    trouve = True\n",
    "                deja_vu.append(acteur)\n",
    "        distance += 1\n",
    "        collabs = collaborateurs_proches(G,u,distance)\n",
    "    return distance-1"
   ]
  },
  {
   "attachments": {},
   "cell_type": "markdown",
   "metadata": {},
   "source": [
    "La fonction calculer_centralite_acteur, permet d'obtenir le centralite d'un acteur dans le graphe.\n",
    "\n",
    "Nous utilisons la fonction closeness_centrality de networkx, qui permet d'optenir la centralité de l'acteur en utilisant le parcour en largeur."
   ]
  },
  {
   "attachments": {},
   "cell_type": "markdown",
   "metadata": {},
   "source": [
    "Dans le meilleur des cas (v voisin de u) on à O(D\\*K) et dans le pire on à 6O(D\\*K) qu'on peut simplifier à O(D\\*K).\n",
    "\n",
    "## fonctions utiles pour les distances"
   ]
  },
  {
   "cell_type": "code",
   "execution_count": null,
   "metadata": {},
   "outputs": [],
   "source": [
    "def distance(G, u, v): # bfs distance\n",
    "    \"\"\"\n",
    "    Calcule la distance entre deux acteurs donnés dans un graphe en utilisant la recherche en largeur (BFS).\n",
    "\n",
    "    Args:\n",
    "        G (networkx.classes.digraph.DiGraph): Le graphe dans lequel calculer la distance.\n",
    "        u: L'acteur source.\n",
    "        v: L'acteur cible.\n",
    "\n",
    "    Returns:\n",
    "        int: La distance entre les deux acteurs. Si l'un des acteurs n'est pas présent dans le graphe ou qu'aucun lien n'est trouvé, retourne None.\n",
    "    \"\"\"\n",
    "    if u not in G.nodes or v not in G.nodes:\n",
    "        return None\n",
    "    visite = []  # liste des noeuds déjà visités\n",
    "    file = [[u]]  # queue des chemins à explorer\n",
    "    while file:\n",
    "        chemin = file.pop(0)  #premier chemin de la file d'attente\n",
    "        noeud_courant = chemin[-1]  #dernier noeud du chemin en cours\n",
    "        if noeud_courant not in visite:\n",
    "            voisins = G[noeud_courant] \n",
    "            for voisin in voisins:\n",
    "                nouveau_chemin = list(chemin)  # copie du chemin en cours\n",
    "                nouveau_chemin.append(voisin)  # ajoute le voisin au chemin\n",
    "                file.append(nouveau_chemin)  # ajoute le nouveau chemin à la file d'attente\n",
    "                if voisin == v:\n",
    "                    return len(nouveau_chemin)-1\n",
    "                if len(file) > len(G.nodes):\n",
    "                    return 0  # dans le cas ou il n'y'a pas de relations entre les 2 acteurs, on ne retourne pas None pour la condition distance > val de la fonction eloignement_max(G)\n",
    "        visite.append(noeud_courant)  # le noeud courant est compté comme visité\n"
   ]
  },
  {
   "cell_type": "code",
   "execution_count": null,
   "metadata": {},
   "outputs": [],
   "source": [
    "\n",
    "def liste_acteur_a_distance_k(G, k):\n",
    "    \"\"\"\n",
    "    Renvoie un dictionnaire contenant les acteurs à une distance strictement k dans le graphe G.\n",
    "    Args:\n",
    "        G (networkx.classes.digraph.DiGraph): Le graphe représentants les acteurs.\n",
    "        k (int): La distance.\n",
    "    Returns:\n",
    "        dict: Un dictionnaire ayant l'acteur comme clé qui à comme valeur l'ensembles de ses collaborateurs ou collaborateurs de collaborateurs à une distance k.\n",
    "    \"\"\"\n",
    "    dico_acteur = dict()\n",
    "    for acteur in G.nodes:\n",
    "        if acteur not in dico_acteur:\n",
    "            a = collaborateurs_proches(G, acteur, k)\n",
    "            b = collaborateurs_proches(G, acteur, k-1)\n",
    "            if a != b:\n",
    "                dico_acteur[acteur] = a - b\n",
    "    return dico_acteur\n",
    "\n",
    "print(liste_acteur_a_distance_k(graphe, 4))"
   ]
  },
  {
   "attachments": {},
   "cell_type": "markdown",
   "metadata": {},
   "source": [
    "4. \n",
    "## a. Notion de centralité\n",
    "\n",
    "$c(G,s) = \\min{c(G,v)}, v∈V(G)$\n",
    "\n",
    "Le calcul effectué dans la fonction centralite_acteur() se base sur la notion de \"proximité\" pour évaluer la centralité d'un acteur. Cette mesure de centralité est utilisée car simplement compter le nombre de connexions directes d'un acteur ne suffirait pas à refléter son importance au sein du graphe. En effet, il est important de considérer la façon dont un acteur est relié à l'ensemble des autres acteurs dans le graphe (tenir compte de la structure de G).\n",
    "\n",
    "Le calcul consiste à prendre en compte la distance des chemins les plus courts entre un acteur donné et tous les autres acteurs du graphe. On additionne ces distances pour obtenir une mesure de proximité. Ensuite, 1 et divise par cette mesure pour normaliser la mesure. Cette approche permet de quantifier la proximité globale d'un acteur par rapport à l'ensemble des autres acteurs du graphe.\n",
    "\n",
    "Calcul de centralité de proximité :\n",
    "Pour cela, nous utiliserons closeness_centrality() de NetworkX, une version algorithmique et celle d'intermédiarité betweenness_centrality(), premièrement, la formule utilisée sera la suivante :\n",
    "\n",
    "$c(v) = \\frac{{1}}{{\\sum_{u \\neq v} \\text{{distance la plus courte de }} u \\text{{ à }} v}}$\n",
    "\n"
   ]
  },
  {
   "cell_type": "markdown",
   "metadata": {},
   "source": [
    "## avec l'utilisation de closeness centrality\n",
    "\n",
    "## a.\n",
    "\n"
   ]
  },
  {
   "cell_type": "code",
   "execution_count": null,
   "metadata": {},
   "outputs": [],
   "source": [
    "def calculer_centralite_acteur_proximitenx(Gc, acteur):\n",
    "    return nx.closeness_centrality(Gc, u=acteur)\n",
    "calculer_centralite_acteur_proximitenx(graphe, \"Mercè Pons\")\n"
   ]
  },
  {
   "attachments": {},
   "cell_type": "markdown",
   "metadata": {},
   "source": [
    "La fonction trouver_acteur_plus_central permet d'obtenir l'acteur qui est le plus au centre du Graphe\n",
    "Pour cela nous utilisons encore la fonction closeness_centrality de networkx, pour avoir la centralité de toute les acteurs du graphe, puis nous obtenons le maximum."
   ]
  },
  {
   "cell_type": "markdown",
   "metadata": {},
   "source": [
    "## b."
   ]
  },
  {
   "cell_type": "code",
   "execution_count": null,
   "metadata": {},
   "outputs": [],
   "source": [
    "def trouver_acteur_plus_central_proximitenx(G):\n",
    "    noeud_proximite = nx.closeness_centrality(G)\n",
    "    noeud_central = max(noeud_proximite, key=noeud_proximite.get)\n",
    "    return noeud_central\n",
    "\n",
    "# trouver_acteur_plus_central_proximitenx(graphe)"
   ]
  },
  {
   "cell_type": "code",
   "execution_count": null,
   "metadata": {},
   "outputs": [],
   "source": [
    "## de façon algorithmique\n",
    "\n",
    "def centralite_acteur(G, u):\n",
    "  somme_court_chemins = 0\n",
    "  deja_vus = set()\n",
    "  for acteur in G.nodes:\n",
    "      if acteur not in deja_vus:\n",
    "        dis = distance(G, u, acteur)\n",
    "        if dis is not None:\n",
    "          somme_court_chemins+=distance(G, u, acteur)\n",
    "        deja_vus.add(acteur)\n",
    "  if somme_court_chemins != 0:\n",
    "    return 1/somme_court_chemins\n",
    "  return 0\n",
    "\n",
    "print(centralite_acteur(graphe, \"Leila Hyams\"))\n",
    "    "
   ]
  },
  {
   "cell_type": "code",
   "execution_count": null,
   "metadata": {},
   "outputs": [],
   "source": [
    "def acteur_au_centre(G):\n",
    "    centralites = {}\n",
    "    for acteur in G.nodes:\n",
    "        centralite = centralite_acteur(G, acteur)\n",
    "        centralites[acteur] = centralite\n",
    "    acteur_centre = max(centralites, key=centralites.get)\n",
    "    return acteur_centre\n",
    "  \n",
    "  \n",
    "acteur_au_centre(graphe)"
   ]
  },
  {
   "attachments": {},
   "cell_type": "markdown",
   "metadata": {},
   "source": [
    "# avec le calcul de d'intermédiarité\n",
    "\n",
    "$\\text{centralité d'intermédiarité}(acteur) = \\frac{\\sum_{s \\neq v \\neq t} \\frac{\\sigma_{st}(v)}{\\sigma_{st}}}{(n-1)(n-2)}$\n"
   ]
  },
  {
   "cell_type": "code",
   "execution_count": null,
   "metadata": {},
   "outputs": [],
   "source": [
    "\n",
    "\n",
    "def calculer_centralite_acteur_inter(G, acteur):\n",
    "    return nx.betweenness_centrality(G)[acteur]\n",
    "\n",
    "print(calculer_centralite_acteur_inter(graphe, \"Paul Reubens\"))\n",
    "def trouver_acteur_central_inter(G):\n",
    "    centralite_max = 0\n",
    "    acteur_central = None\n",
    "    for acteur in G.nodes:\n",
    "        centralite = calculer_centralite_acteur_inter(G, acteur)\n",
    "        if centralite > centralite_max:\n",
    "            centralite_max = centralite\n",
    "            acteur_central = acteur\n",
    "    return acteur_central\n",
    "\n",
    "# print(acteur_au_centre)\n",
    "acteur_central = trouver_acteur_central_inter(graphe)\n",
    "print(acteur_central)\n"
   ]
  },
  {
   "cell_type": "code",
   "execution_count": null,
   "metadata": {},
   "outputs": [],
   "source": [
    "# y'a t-il une relation entre la centralité de proximité et celle d'intermédiarité ? a repondre\n",
    "def centralite_comparer(G):\n",
    "  dico_comparaison = dict()\n",
    "  for acteur in G.nodes:\n",
    "    centraliteProxi = calculer_centralite_acteur_proximitenx(G, acteur)\n",
    "    centraliteInter = calculer_centralite_acteur_inter(G,acteur)\n",
    "    dico_comparaison[acteur] = {\"proximité\" : centraliteProxi, \"intermédiarité\" : centraliteInter }\n",
    "  return dico_comparaison\n",
    "\n",
    "centralite_comparer(graphe)\n",
    "  "
   ]
  },
  {
   "cell_type": "markdown",
   "metadata": {},
   "source": [
    "# 5 Eloignement\n",
    "\n",
    "## avec nx.shortest_path_length (qui implémente l'algo de Djikstra)"
   ]
  },
  {
   "cell_type": "code",
   "execution_count": null,
   "metadata": {},
   "outputs": [],
   "source": [
    "def distance_maximale_entre_acteurs_networkx(G):\n",
    "    \"\"\"\n",
    "    Calcule la distance maximale entre tous les paires d'acteurs dans le graphe.\n",
    "\n",
    "    Args:\n",
    "        G (networkx.classes.digraph.DiGraph): Le graphe des acteurs.\n",
    "\n",
    "    Returns:\n",
    "        int: La distance maximale entre les acteurs. Si aucun chemin n'existe entre les acteurs, la distance représentée est 0.\n",
    "    \"\"\"\n",
    "    distances = []\n",
    "    for acteur1 in G.nodes():\n",
    "        for acteur2 in G.nodes():\n",
    "            if acteur1 != acteur2:\n",
    "                try:\n",
    "                    distance = nx.shortest_path_length(G, acteur1, acteur2)\n",
    "                    distances.append(distance)\n",
    "                except nx.NetworkXNoPath:\n",
    "                    # Si aucun chemin n'existe entre les acteurs, la distance est infinie\n",
    "                    distances.append(0)  # Distance 0 pour représenter une distance infinie\n",
    "    distance_max = max(distances)\n",
    "    return distance_max\n",
    "\n",
    "print(distance_maximale_entre_acteurs_networkx(graphe))"
   ]
  },
  {
   "cell_type": "markdown",
   "metadata": {},
   "source": [
    "## avec les distance calculer en BFS"
   ]
  },
  {
   "cell_type": "code",
   "execution_count": null,
   "metadata": {},
   "outputs": [],
   "source": [
    "def distance_maximale_entre_acteurs(G):\n",
    "    max_distance = 0\n",
    "    dis = 0\n",
    "    # Parcours de toutes les paires d'acteurs distinctes\n",
    "    for actor1 in G.nodes:\n",
    "        for actor2 in G.nodes:\n",
    "            if actor1 != actor2:\n",
    "                dis = distance(G, actor1, actor2)  # Utilise la fonction distance définie précédemment\n",
    "                if dis is not None and dis > max_distance:\n",
    "                    max_distance = dis\n",
    "\n",
    "    return max_distance-1\n",
    "print(distance_maximale_entre_acteurs(graphe))"
   ]
  },
  {
   "cell_type": "code",
   "execution_count": null,
   "metadata": {},
   "outputs": [],
   "source": [
    "# Bonus a.\n",
    "\n",
    "# nécessite d'avoir créez le graphe en entier avant\n",
    "def creation_sous_graphe(G, u, k):\n",
    "  \n",
    "  "
   ]
  }
 ],
 "metadata": {
  "kernelspec": {
   "display_name": "Python 3",
   "language": "python",
   "name": "python3"
  },
  "language_info": {
   "codemirror_mode": {
    "name": "ipython",
    "version": 3
   },
   "file_extension": ".py",
   "mimetype": "text/x-python",
   "name": "python",
   "nbconvert_exporter": "python",
   "pygments_lexer": "ipython3",
   "version": "3.10.6"
  },
  "orig_nbformat": 4
 },
 "nbformat": 4,
 "nbformat_minor": 2
}
