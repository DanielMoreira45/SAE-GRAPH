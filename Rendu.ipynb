{
 "cells": [
  {
   "attachments": {},
   "cell_type": "markdown",
   "metadata": {},
   "source": []
  },
  {
   "cell_type": "code",
   "execution_count": 42,
   "metadata": {},
   "outputs": [],
   "source": [
    "import networkx as nx\n",
    "import time\n",
    "import json\n",
    "import matplotlib.pyplot as plt"
   ]
  },
  {
   "attachments": {},
   "cell_type": "markdown",
   "metadata": {},
   "source": [
    "# 1 Echauffement\n",
    "\n",
    "Afin de convertir le format de données json au graphe, la conversion fut en 3 étapes : json -> dict() -> Graph(). Nous pourrions directement convertir du json à un graphe networkX, mais la conversion en dictionnaire permet de traiter les données hors cast et le temps d'execution étant faible (3s en moyenne pour la conversion en dico avec le set de donnée entier), on peut se le permettre.\n",
    "\n",
    "Le format adopté :\n",
    "{Nom_du_Film : {cast : [liste_des_acteurs]}, {director : [liste_des_directeurs]}, {producers : [liste_des_producteurs]}, {companies: [liste_des_companies]}, {year: [Date_de_sorti]}}\n",
    "\n",
    "## json -> dict()"
   ]
  },
  {
   "cell_type": "code",
   "execution_count": 43,
   "metadata": {},
   "outputs": [],
   "source": [
    "\n",
    "def convert_txt_to_dict(nom_fichier):\n",
    "    \"\"\"charge un fichier de lignes json en dictionnaire \n",
    "\n",
    "    Args:\n",
    "        nom_fichier (str): nom du fichier txt contenant les lignes json\n",
    "\n",
    "    Returns:\n",
    "        dict: le dictionnaire avec le contenus du fichier\n",
    "    \"\"\"\n",
    "    with open(nom_fichier, encoding='utf-8') as fichier_open:\n",
    "        lignes = fichier_open.readlines()\n",
    "        dico = {}\n",
    "        for json_data in lignes:\n",
    "            # gestion des symboles [[]] |\n",
    "            Data = json.loads(json_data)\n",
    "            titre = Data[\"title\"].replace(\"[[\", \"\").replace(\"]]\", \"\")\n",
    "            cast = [personne.split(\"|\")[0].split(\"(\")[0].replace(\"[[\", \"\").replace(\"]]\", \"\") if \"|\" in personne else personne.replace(\"[[\", \"\").replace(\"]]\", \"\") for personne in Data.get(\"cast\", [])]\n",
    "            directeur = [director.replace(\"[[\", \"\").replace(\"]]\", \"\") for director in Data.get(\"directors\", [])]\n",
    "            producteur = [prod.replace(\"[[\", \"\").replace(\"]]\", \"\") for prod in Data.get(\"producers\", [])]\n",
    "            companies = [comp.replace(\"[[\", \"\").replace(\"]]\", \"\") for comp in Data.get(\"companies\", [])]\n",
    "            annee_sorti = Data.get(\"year\", [])\n",
    "            \n",
    "            dico[titre] = {\n",
    "                \"cast\": cast,\n",
    "                \"director\": directeur,\n",
    "                \"producers\": producteur,\n",
    "                \"companies\": companies,\n",
    "                \"year\": annee_sorti\n",
    "            }\n",
    "    return dico\n",
    "\n",
    "dictionnaire_fichier = convert_txt_to_dict(\"medium_data.txt\")"
   ]
  },
  {
   "attachments": {},
   "cell_type": "markdown",
   "metadata": {},
   "source": [
    "## dict() -> Graph()"
   ]
  },
  {
   "cell_type": "code",
   "execution_count": 44,
   "metadata": {},
   "outputs": [],
   "source": [
    "\n",
    "\n",
    "def creation_graphe(dico):\n",
    "    \"\"\"créez un graph networkx à partir du dictionnaire issue convert_txt_to_dict().\n",
    "\n",
    "    Args:\n",
    "        nom_dico (dict): nom du dictionnaire au format {Nom_du_Film : {cast : [liste_des_acteurs]}, {director : [liste_des_directeurs]}, {producers : [liste_des_producteurs]}, {companies: [liste_des_companies]}, {year: [Date_de_sorti]}}.\n",
    "\n",
    "    Returns:\n",
    "        networkx.classes.digraph.DiGraph: Graph networkX représentant des relations entre acteurs (cast).\n",
    "    \"\"\"\n",
    "    g = nx.DiGraph()\n",
    "    acteurs_vue = set()\n",
    "    for film in dico.values():\n",
    "        for i in range(len(film[\"cast\"])):\n",
    "            acteur1 = film[\"cast\"][i]\n",
    "            if acteur1 not in acteurs_vue: \n",
    "                g.add_node(acteur1)\n",
    "                acteurs_vue.add(acteur1)\n",
    "            for b in range(i+1, len(film[\"cast\"])): # i+1 pour éviter de rajouter relations à lui-même\n",
    "                acteur2 = film[\"cast\"][b]\n",
    "                if acteur2 not in acteurs_vue:\n",
    "                    g.add_node(acteur2)\n",
    "                    acteurs_vue.add(acteur2)\n",
    "                # on ajoute l'arête dans tout les cas\n",
    "                g.add_edge(acteur1, acteur2, length=10)\n",
    "    return g\n",
    "graphe = creation_graphe(dictionnaire_fichier)"
   ]
  },
  {
   "attachments": {},
   "cell_type": "markdown",
   "metadata": {},
   "source": [
    "Pour le dessin, une petite proportion de données doit être utilisé car l'utilisation de draw de networkX ou des fonctions d'affichage de plt prennent beaucoup de temps.\n",
    "L'affichage des étiquettes (with_labels=False), la taille des noeuds, le type de layout etc.. impacte la performance, nous avons décider de laisser par défaut.\n"
   ]
  },
  {
   "cell_type": "code",
   "execution_count": 45,
   "metadata": {},
   "outputs": [
    {
     "ename": "KeyboardInterrupt",
     "evalue": "",
     "output_type": "error",
     "traceback": [
      "\u001b[1;31m---------------------------------------------------------------------------\u001b[0m",
      "\u001b[1;31mKeyboardInterrupt\u001b[0m                         Traceback (most recent call last)",
      "Cell \u001b[1;32mIn[45], line 4\u001b[0m\n\u001b[0;32m      2\u001b[0m \u001b[39mdef\u001b[39;00m \u001b[39mdessine_graph\u001b[39m(G):\n\u001b[0;32m      3\u001b[0m     nx\u001b[39m.\u001b[39mdraw(G, with_labels\u001b[39m=\u001b[39m\u001b[39mTrue\u001b[39;00m)\n\u001b[1;32m----> 4\u001b[0m dessine_graph(graphe)\n",
      "Cell \u001b[1;32mIn[45], line 3\u001b[0m, in \u001b[0;36mdessine_graph\u001b[1;34m(G)\u001b[0m\n\u001b[0;32m      2\u001b[0m \u001b[39mdef\u001b[39;00m \u001b[39mdessine_graph\u001b[39m(G):\n\u001b[1;32m----> 3\u001b[0m     nx\u001b[39m.\u001b[39;49mdraw(G, with_labels\u001b[39m=\u001b[39;49m\u001b[39mTrue\u001b[39;49;00m)\n",
      "File \u001b[1;32m~\\AppData\\Roaming\\Python\\Python310\\site-packages\\networkx\\drawing\\nx_pylab.py:121\u001b[0m, in \u001b[0;36mdraw\u001b[1;34m(G, pos, ax, **kwds)\u001b[0m\n\u001b[0;32m    118\u001b[0m \u001b[39mif\u001b[39;00m \u001b[39m\"\u001b[39m\u001b[39mwith_labels\u001b[39m\u001b[39m\"\u001b[39m \u001b[39mnot\u001b[39;00m \u001b[39min\u001b[39;00m kwds:\n\u001b[0;32m    119\u001b[0m     kwds[\u001b[39m\"\u001b[39m\u001b[39mwith_labels\u001b[39m\u001b[39m\"\u001b[39m] \u001b[39m=\u001b[39m \u001b[39m\"\u001b[39m\u001b[39mlabels\u001b[39m\u001b[39m\"\u001b[39m \u001b[39min\u001b[39;00m kwds\n\u001b[1;32m--> 121\u001b[0m draw_networkx(G, pos\u001b[39m=\u001b[39mpos, ax\u001b[39m=\u001b[39max, \u001b[39m*\u001b[39m\u001b[39m*\u001b[39mkwds)\n\u001b[0;32m    122\u001b[0m ax\u001b[39m.\u001b[39mset_axis_off()\n\u001b[0;32m    123\u001b[0m plt\u001b[39m.\u001b[39mdraw_if_interactive()\n",
      "File \u001b[1;32m~\\AppData\\Roaming\\Python\\Python310\\site-packages\\networkx\\drawing\\nx_pylab.py:304\u001b[0m, in \u001b[0;36mdraw_networkx\u001b[1;34m(G, pos, arrows, with_labels, **kwds)\u001b[0m\n\u001b[0;32m    301\u001b[0m     pos \u001b[39m=\u001b[39m nx\u001b[39m.\u001b[39mdrawing\u001b[39m.\u001b[39mspring_layout(G)  \u001b[39m# default to spring layout\u001b[39;00m\n\u001b[0;32m    303\u001b[0m draw_networkx_nodes(G, pos, \u001b[39m*\u001b[39m\u001b[39m*\u001b[39mnode_kwds)\n\u001b[1;32m--> 304\u001b[0m draw_networkx_edges(G, pos, arrows\u001b[39m=\u001b[39marrows, \u001b[39m*\u001b[39m\u001b[39m*\u001b[39medge_kwds)\n\u001b[0;32m    305\u001b[0m \u001b[39mif\u001b[39;00m with_labels:\n\u001b[0;32m    306\u001b[0m     draw_networkx_labels(G, pos, \u001b[39m*\u001b[39m\u001b[39m*\u001b[39mlabel_kwds)\n",
      "File \u001b[1;32m~\\AppData\\Roaming\\Python\\Python310\\site-packages\\networkx\\drawing\\nx_pylab.py:908\u001b[0m, in \u001b[0;36mdraw_networkx_edges\u001b[1;34m(G, pos, edgelist, width, edge_color, style, alpha, arrowstyle, arrowsize, edge_cmap, edge_vmin, edge_vmax, ax, arrows, label, node_size, nodelist, node_shape, connectionstyle, min_source_margin, min_target_margin)\u001b[0m\n\u001b[0;32m    906\u001b[0m \u001b[39melse\u001b[39;00m:\n\u001b[0;32m    907\u001b[0m     fancy_edges_indices \u001b[39m=\u001b[39m \u001b[39mrange\u001b[39m(\u001b[39mlen\u001b[39m(edgelist))\n\u001b[1;32m--> 908\u001b[0m     edge_viz_obj \u001b[39m=\u001b[39m _draw_networkx_edges_fancy_arrow_patch()\n\u001b[0;32m    910\u001b[0m \u001b[39m# update view after drawing\u001b[39;00m\n\u001b[0;32m    911\u001b[0m padx, pady \u001b[39m=\u001b[39m \u001b[39m0.05\u001b[39m \u001b[39m*\u001b[39m w, \u001b[39m0.05\u001b[39m \u001b[39m*\u001b[39m h\n",
      "File \u001b[1;32m~\\AppData\\Roaming\\Python\\Python310\\site-packages\\networkx\\drawing\\nx_pylab.py:882\u001b[0m, in \u001b[0;36mdraw_networkx_edges.<locals>._draw_networkx_edges_fancy_arrow_patch\u001b[1;34m()\u001b[0m\n\u001b[0;32m    867\u001b[0m     arrow \u001b[39m=\u001b[39m mpl\u001b[39m.\u001b[39mpatches\u001b[39m.\u001b[39mFancyArrowPatch(\n\u001b[0;32m    868\u001b[0m         (x1, y1),\n\u001b[0;32m    869\u001b[0m         (x2, y2),\n\u001b[1;32m   (...)\u001b[0m\n\u001b[0;32m    878\u001b[0m         zorder\u001b[39m=\u001b[39m\u001b[39m1\u001b[39m,\n\u001b[0;32m    879\u001b[0m     )  \u001b[39m# arrows go behind nodes\u001b[39;00m\n\u001b[0;32m    881\u001b[0m     arrow_collection\u001b[39m.\u001b[39mappend(arrow)\n\u001b[1;32m--> 882\u001b[0m     ax\u001b[39m.\u001b[39;49madd_patch(arrow)\n\u001b[0;32m    884\u001b[0m \u001b[39mreturn\u001b[39;00m arrow_collection\n",
      "File \u001b[1;32m~\\AppData\\Roaming\\Python\\Python310\\site-packages\\matplotlib\\axes\\_base.py:2379\u001b[0m, in \u001b[0;36m_AxesBase.add_patch\u001b[1;34m(self, p)\u001b[0m\n\u001b[0;32m   2377\u001b[0m \u001b[39mif\u001b[39;00m p\u001b[39m.\u001b[39mget_clip_path() \u001b[39mis\u001b[39;00m \u001b[39mNone\u001b[39;00m:\n\u001b[0;32m   2378\u001b[0m     p\u001b[39m.\u001b[39mset_clip_path(\u001b[39mself\u001b[39m\u001b[39m.\u001b[39mpatch)\n\u001b[1;32m-> 2379\u001b[0m \u001b[39mself\u001b[39;49m\u001b[39m.\u001b[39;49m_update_patch_limits(p)\n\u001b[0;32m   2380\u001b[0m \u001b[39mself\u001b[39m\u001b[39m.\u001b[39m_children\u001b[39m.\u001b[39mappend(p)\n\u001b[0;32m   2381\u001b[0m p\u001b[39m.\u001b[39m_remove_method \u001b[39m=\u001b[39m \u001b[39mself\u001b[39m\u001b[39m.\u001b[39m_children\u001b[39m.\u001b[39mremove\n",
      "File \u001b[1;32m~\\AppData\\Roaming\\Python\\Python310\\site-packages\\matplotlib\\axes\\_base.py:2403\u001b[0m, in \u001b[0;36m_AxesBase._update_patch_limits\u001b[1;34m(self, patch)\u001b[0m\n\u001b[0;32m   2400\u001b[0m vertices \u001b[39m=\u001b[39m []\n\u001b[0;32m   2401\u001b[0m \u001b[39mfor\u001b[39;00m curve, code \u001b[39min\u001b[39;00m p\u001b[39m.\u001b[39miter_bezier(simplify\u001b[39m=\u001b[39m\u001b[39mFalse\u001b[39;00m):\n\u001b[0;32m   2402\u001b[0m     \u001b[39m# Get distance along the curve of any extrema\u001b[39;00m\n\u001b[1;32m-> 2403\u001b[0m     _, dzeros \u001b[39m=\u001b[39m curve\u001b[39m.\u001b[39;49maxis_aligned_extrema()\n\u001b[0;32m   2404\u001b[0m     \u001b[39m# Calculate vertices of start, end and any extrema in between\u001b[39;00m\n\u001b[0;32m   2405\u001b[0m     vertices\u001b[39m.\u001b[39mappend(curve([\u001b[39m0\u001b[39m, \u001b[39m*\u001b[39mdzeros, \u001b[39m1\u001b[39m]))\n",
      "File \u001b[1;32m~\\AppData\\Roaming\\Python\\Python310\\site-packages\\matplotlib\\bezier.py:299\u001b[0m, in \u001b[0;36mBezierSegment.axis_aligned_extrema\u001b[1;34m(self)\u001b[0m\n\u001b[0;32m    297\u001b[0m roots \u001b[39m=\u001b[39m []\n\u001b[0;32m    298\u001b[0m \u001b[39mfor\u001b[39;00m i, pi \u001b[39min\u001b[39;00m \u001b[39menumerate\u001b[39m(dCj\u001b[39m.\u001b[39mT):\n\u001b[1;32m--> 299\u001b[0m     r \u001b[39m=\u001b[39m np\u001b[39m.\u001b[39;49mroots(pi[::\u001b[39m-\u001b[39;49m\u001b[39m1\u001b[39;49m])\n\u001b[0;32m    300\u001b[0m     roots\u001b[39m.\u001b[39mappend(r)\n\u001b[0;32m    301\u001b[0m     dims\u001b[39m.\u001b[39mappend(np\u001b[39m.\u001b[39mfull_like(r, i))\n",
      "File \u001b[1;32m<__array_function__ internals>:200\u001b[0m, in \u001b[0;36mroots\u001b[1;34m(*args, **kwargs)\u001b[0m\n",
      "File \u001b[1;32m~\\AppData\\Roaming\\Python\\Python310\\site-packages\\numpy\\lib\\polynomial.py:233\u001b[0m, in \u001b[0;36mroots\u001b[1;34m(p)\u001b[0m\n\u001b[0;32m    230\u001b[0m     \u001b[39mraise\u001b[39;00m \u001b[39mValueError\u001b[39;00m(\u001b[39m\"\u001b[39m\u001b[39mInput must be a rank-1 array.\u001b[39m\u001b[39m\"\u001b[39m)\n\u001b[0;32m    232\u001b[0m \u001b[39m# find non-zero array entries\u001b[39;00m\n\u001b[1;32m--> 233\u001b[0m non_zero \u001b[39m=\u001b[39m NX\u001b[39m.\u001b[39mnonzero(NX\u001b[39m.\u001b[39;49mravel(p))[\u001b[39m0\u001b[39m]\n\u001b[0;32m    235\u001b[0m \u001b[39m# Return an empty array if polynomial is all zeros\u001b[39;00m\n\u001b[0;32m    236\u001b[0m \u001b[39mif\u001b[39;00m \u001b[39mlen\u001b[39m(non_zero) \u001b[39m==\u001b[39m \u001b[39m0\u001b[39m:\n",
      "File \u001b[1;32m<__array_function__ internals>:200\u001b[0m, in \u001b[0;36mravel\u001b[1;34m(*args, **kwargs)\u001b[0m\n",
      "File \u001b[1;32m~\\AppData\\Roaming\\Python\\Python310\\site-packages\\numpy\\core\\fromnumeric.py:1885\u001b[0m, in \u001b[0;36mravel\u001b[1;34m(a, order)\u001b[0m\n\u001b[0;32m   1883\u001b[0m     \u001b[39mreturn\u001b[39;00m asarray(a)\u001b[39m.\u001b[39mravel(order\u001b[39m=\u001b[39morder)\n\u001b[0;32m   1884\u001b[0m \u001b[39melse\u001b[39;00m:\n\u001b[1;32m-> 1885\u001b[0m     \u001b[39mreturn\u001b[39;00m asanyarray(a)\u001b[39m.\u001b[39;49mravel(order\u001b[39m=\u001b[39;49morder)\n",
      "\u001b[1;31mKeyboardInterrupt\u001b[0m: "
     ]
    }
   ],
   "source": [
    "# le dessin peut prendre beaucoup de temps, d'autant plus quand le graph est grand\n",
    "def dessine_graph(G):\n",
    "    nx.draw(G, with_labels=True)\n",
    "dessine_graph(graphe)"
   ]
  },
  {
   "attachments": {},
   "cell_type": "markdown",
   "metadata": {},
   "source": [
    "# 2. Collaborateurs en commun"
   ]
  },
  {
   "cell_type": "code",
   "execution_count": null,
   "metadata": {},
   "outputs": [],
   "source": [
    "def colab_en_commun(G, u, v):\n",
    "    \"\"\"\n",
    "    Retourne l'ensemble des collaborateurs communs entre deux acteurs du graphe G.\n",
    "\n",
    "    Args:\n",
    "        G (networkx.classes.digraph.DiGraph): Le graphe dans lequel rechercher les collaborateurs communs.\n",
    "        u (node): un acteur.\n",
    "        v (node): un  autre acteur.\n",
    "\n",
    "    Returns:\n",
    "        set: Un ensemble des collaborateurs communs entre u et v.\n",
    "\n",
    "    \"\"\"\n",
    "    collab_commun = set()\n",
    "    if u not in G.nodes or v not in G.nodes:\n",
    "        return None\n",
    "    # on regarde les collaborateurs directes de u et v\n",
    "    adjU = G.adj[u]\n",
    "    adjV= G.adj[v] \n",
    "    for i in adjU:# O(d(u))\n",
    "        for v in adjV:# O(d(v))\n",
    "            # pour chaque collaborateur direct en commun, ont ajoute à l'ensemble si celui-ci n'est pas déjà ajoutée,\n",
    "            if i == v and i not in colab_en_commun: # O(1)\n",
    "                collab_commun.add(i)# i ou v cela revient au même car i==v\n",
    "    return collab_commun\n",
    "\n"
   ]
  },
  {
   "attachments": {},
   "cell_type": "markdown",
   "metadata": {},
   "source": [
    "## .a\n",
    "Notion : l'existence d'un acteur/noeud avec un degré de 1 pour les deux acteurs donnés indique qu'il existe un nœud intermédiaire qui est connecté directement à la fois à l'acteur 1 et à l'acteur 2 ou autrement dit qu'un même noeud appartient au voisinage de 2 noeuds différents.\n"
   ]
  },
  {
   "attachments": {},
   "cell_type": "markdown",
   "metadata": {},
   "source": [
    "$$\\text{CollabComm}(G, u, v) = \\{ i \\mid i \\in V(u) \\cap V(v) \\}$$\n",
    "\n",
    "- i : ensemble des noeuds qui satisfait la condition\n",
    "- V(u) et V(v) respecitivement les voisins de u et v\n"
   ]
  },
  {
   "attachments": {},
   "cell_type": "markdown",
   "metadata": {},
   "source": [
    "## .b\n",
    "La complexité dépend de la taille de liste d'ajacence de u et v, elle est de O(d(u) * O(d(v)) en l'occurence car l'on vérifie les collaborateurs en commun en vérifiant toute la liste d'adjacence."
   ]
  },
  {
   "attachments": {},
   "cell_type": "markdown",
   "metadata": {},
   "source": [
    "# 3. Collaborateurs proches "
   ]
  },
  {
   "cell_type": "code",
   "execution_count": null,
   "metadata": {},
   "outputs": [],
   "source": [
    "# la fonction donnée :\n",
    "\n",
    "def collaborateurs_proches(G,u,k): # parcours en largeur\n",
    "    \"\"\"Fonction renvoyant l'ensemble des acteurs à distance au plus k de l'acteur u dans le graphe G. La fonction renvoie None si u est absent du graphe.\n",
    "    \n",
    "    Parametres:\n",
    "        G: le graphe\n",
    "        u: le sommet de départ\n",
    "        k: la distance depuis u\n",
    "    \"\"\"\n",
    "    if u not in G.nodes: # cout linéaire O(1) pour la vérification de l'existance d'un noeud dans un graphe et création des variables\n",
    "        print(u,\"est un illustre inconnu\")\n",
    "        return None\n",
    "    collaborateurs = set()\n",
    "    collaborateurs.add(u)\n",
    "    print(collaborateurs)\n",
    "    for i in range(k): # on explore les sucesseurs des successeurs et ainsi de suite à un degrès k maximum du noeud u \n",
    "        collaborateurs_directs = set() # cout quadratique, proportionelle au  produit du degré moyen des acteurs à la celui de la distance K soit  O(D*K) pour les 2 boucles\n",
    "        for c in collaborateurs:\n",
    "            for voisin in G.adj[c]:\n",
    "                if voisin not in collaborateurs:\n",
    "                    collaborateurs_directs.add(voisin)\n",
    "        collaborateurs = collaborateurs.union(collaborateurs_directs) # le cout de l'union est au plus proportionelle à la taille des ensemble unis qui est le cout des acteurs ajoutées une fois. 0(D*K)\n",
    "    return collaborateurs"
   ]
  },
  {
   "attachments": {},
   "cell_type": "markdown",
   "metadata": {},
   "source": [
    "## a. \n",
    "L'algorithme au coeur de ce graphe est le BFS (Breadth-First Search), en effet l'algorithme va explorer tous les voisins directs avant de passer aux voisins des voisins sucessivement jusqu'à un degré k, ici il va le faire de façon itérative sans utiliser de file. On ne va pas suivre un chemin le plus loin possible puis retourner a l'ancêtre qui possède des chemins encore non visités (DFS)."
   ]
  },
  {
   "attachments": {},
   "cell_type": "markdown",
   "metadata": {},
   "source": [
    "- voir commentaires python\n",
    "\n",
    "on à donc O(D*K)+O(D*K) = 2(O(D*K)) que l'on peut simplifier à O(D*K) \n",
    "En supposant un nombre moyen de degré des noeuds."
   ]
  },
  {
   "attachments": {},
   "cell_type": "markdown",
   "metadata": {},
   "source": [
    "## b. \n",
    "Afin de déterminer si un acteur u se trouve à une distance k d'un acteur v, la fonction collaborateur en commun s'avère judicieuse, en effet elle nous indique les relations directe et indirectes entre acteurs, nous avons juste à regarder si dans l'ensemble des collaborateurs de u à la distance k, il existe l'acteur v."
   ]
  },
  {
   "cell_type": "code",
   "execution_count": null,
   "metadata": {},
   "outputs": [],
   "source": [
    "def est_a_distance_k(G, u, v, k):\n",
    "     \"\"\"\n",
    "    Vérifie si deux acteurs u et v sont à une distance strictement inférieure a k dans le graphe.\n",
    "\n",
    "    Args:\n",
    "        G (networkx.classes.digraph.DiGraph): Le graphe représentant la relations entre des acteurs.\n",
    "        u (node): L'acteur de départ.\n",
    "        v (node): L'acteur cible.\n",
    "        k (int): La distance à ne pas dépasser.\n",
    "\n",
    "    Returns:\n",
    "        bool: True si u et v sont à une distance strictement inférieure à k, False sinon.\n",
    "    \"\"\"\n",
    "    if u == v:\n",
    "        return True\n",
    "    if k == 0:\n",
    "        return False\n",
    "    collaborateurs = collaborateurs_proches(G, u, k)\n",
    "    return v in collaborateurs "
   ]
  },
  {
   "attachments": {},
   "cell_type": "markdown",
   "metadata": {},
   "source": [
    "## c. d.\n",
    "\n",
    "Nous avons vu la manière de determiné si un acteur était dans le rayon d'un autre (réciproquement ducoup), pour determiné la k minimal, la fonction collaborateurs_proches(G,u,k) est une fois de plus pertinente. Nous avons juste à initialiser la distance k à 1, et l'incrémenté jusqu'à avoir l'acteur recherché dans l'ensemble des collaborateur présent dans ce rayon k, que l'on retournera."
   ]
  },
  {
   "cell_type": "code",
   "execution_count": null,
   "metadata": {},
   "outputs": [],
   "source": [
    "def distance_acteurs_iterative(G,u,v):\n",
    "    # initialisation des variables O(1)\n",
    "    distance = 1 # on initialise à un car ça n'a pas de sens un voisinage a 0\n",
    "    trouve = False\n",
    "    # vérification d'appartenance de noeud dans un graph O(1)\n",
    "    if u not in G.nodes or v not in G.nodes:\n",
    "        return None\n",
    "    deja_vu = []\n",
    "    \n",
    "    collabs = collaborateurs_proches(G,u,distance)# O(D*K)\n",
    "    while distance <= 6 and not trouve: # N itération O(D*K)\n",
    "        for acteur in collabs:\n",
    "            if acteur not in deja_vu:\n",
    "                if acteur == v:\n",
    "                    trouve = True\n",
    "                deja_vu.append(acteur)\n",
    "        distance += 1\n",
    "        collabs = collaborateurs_proches(G,u,distance)\n",
    "    return distance-1"
   ]
  },
  {
   "attachments": {},
   "cell_type": "markdown",
   "metadata": {},
   "source": [
    "La fonction calculer_centralite_acteur, permet d'optenir le centralite d'un acteur dans le graphe.\n",
    "\n",
    "Nous utilisons la fonction closeness_centrality de networkx, qui permet d'optenir la centralité de l'acteur en utilisant le parcour en largeur."
   ]
  },
  {
   "attachments": {},
   "cell_type": "markdown",
   "metadata": {},
   "source": [
    "Dans le meilleur des cas (v voisin de u) on à O(D*K) et dans le pire on à 6O(D*K) qu'on peut simplifier à O(D*K).\n",
    "\n",
    "## fonctions utiles pour les distances"
   ]
  },
  {
   "cell_type": "code",
   "execution_count": null,
   "metadata": {},
   "outputs": [],
   "source": [
    "def distance(G, u, v): # bfs distance\n",
    "    if u not in G.nodes or v not in G.nodes:\n",
    "        return None\n",
    "    visite = []  # liste des noeuds déjà visités\n",
    "    file = [[u]]  # queue des chemins à explorer\n",
    "    while file:\n",
    "        chemin = file.pop(0)  #premier chemin de la file d'attente\n",
    "        noeud_courant = chemin[-1]  #dernier noeud du chemin en cours\n",
    "        if noeud_courant not in visite:\n",
    "            voisins = G[noeud_courant] \n",
    "            for voisin in voisins:\n",
    "                nouveau_chemin = list(chemin)  # copie du chemin en cours\n",
    "                nouveau_chemin.append(voisin)  # ajoute le voisin au chemin\n",
    "                file.append(nouveau_chemin)  # ajoute le nouveau chemin à la file d'attente\n",
    "                if voisin == v:\n",
    "                    return len(nouveau_chemin)\n",
    "                if len(file) > len(G.nodes):\n",
    "                    return 0  # dans le cas ou il n'y'a pas de relations entre les 2 acteurs, on ne retourne pas None pour la condition distance > val de la fonction eloignement_max(G)\n",
    "        visite.append(noeud_courant)  # le noeud courant est compté comme visité\n"
   ]
  },
  {
   "attachments": {},
   "cell_type": "markdown",
   "metadata": {},
   "source": [
    "4. \n",
    "\n",
    "## a. Notion de centralité\n",
    "\n",
    "\n"
   ]
  },
  {
   "cell_type": "code",
   "execution_count": null,
   "metadata": {},
   "outputs": [],
   "source": [
    "\n",
    "def liste_acteur_a_distance_k(G, k):\n",
    "    \"\"\"\n",
    "    Renvoie un dictionnaire contenant les acteurs à une distance strictement k dans le graphe G.\n",
    "    Args:\n",
    "        G (networkx.classes.digraph.DiGraph): Le graphe représentants les acteurs.\n",
    "        k (int): La distance.\n",
    "    Returns:\n",
    "        dict: Un dictionnaire ayant l'acteur comme clé qui à comme valeur l'ensembles de ses collaborateurs ou collaborateurs de collaborateurs à une distance k.\n",
    "    \"\"\"\n",
    "    dico_acteur = dict()\n",
    "    for acteur in G.nodes:\n",
    "        if acteur not in dico_acteur:\n",
    "            a = collaborateurs_proches(G, acteur, k)\n",
    "            b = collaborateurs_proches(G, acteur, k-1)\n",
    "            if a != b:\n",
    "                dico_acteur[acteur] = a - b\n",
    "    return dico_acteur"
   ]
  },
  {
   "cell_type": "code",
   "execution_count": null,
   "metadata": {},
   "outputs": [
    {
     "name": "stdout",
     "output_type": "stream",
     "text": [
      "0.002288329519450801\n"
     ]
    }
   ],
   "source": [
    "def calculer_centralite_acteur(Gc, acteur):\n",
    "    return nx.closeness_centrality(Gc, u=acteur)\n",
    "\n",
    "print(calculer_centralite_acteur(Graphe, \"Tommy Lee Jones\"))"
   ]
  },
  {
   "attachments": {},
   "cell_type": "markdown",
   "metadata": {},
   "source": [
    "La fonction trouver_acteur_plus_central permet d'optenir l'acteur qui est le plus au centre du Graphe\n",
    "Pour cela nous utilison encore la fonction closeness_centrality de networkx, pour avoir la centralité de toute les acteurs du graphe, puis optenir le maximum"
   ]
  },
  {
   "cell_type": "code",
   "execution_count": null,
   "metadata": {},
   "outputs": [],
   "source": [
    "def trouver_acteur_plus_central_networkx(G):\n",
    "    noeud_proximite = nx.closeness_centrality(G)\n",
    "    noeud_central = max(noeud_proximite, key=noeud_proximite.get)\n",
    "    return noeud_central\n",
    "\n",
    "\n",
    "# print(trouver_acteur_plus_central_networkx(Graphe))"
   ]
  },
  {
   "cell_type": "code",
   "execution_count": null,
   "metadata": {},
   "outputs": [
    {
     "name": "stdout",
     "output_type": "stream",
     "text": [
      "4\n"
     ]
    }
   ],
   "source": [
    "def distance_maximale_entre_acteurs_networkx(G):\n",
    "    distances = []\n",
    "    for acteur1 in G.nodes():\n",
    "        for acteur2 in G.nodes():\n",
    "            if acteur1 != acteur2:\n",
    "                try:\n",
    "                    distance = nx.shortest_path_length(G, acteur1, acteur2)\n",
    "                    distances.append(distance)\n",
    "                except nx.NetworkXNoPath:\n",
    "                    # Si aucun chemin n'existe entre les acteurs, la distance est infinie\n",
    "                    distances.append(0)  # Distance 0 pour représenter une distance infinie\n",
    "    distance_max = max(distances)\n",
    "    return distance_max\n",
    "\n",
    "print(distance_maximale_entre_acteurs_networkx(Graphe))"
   ]
  },
  {
   "cell_type": "code",
   "execution_count": null,
   "metadata": {},
   "outputs": [],
   "source": [
    "def collaborateurs_proches(G,u,k): # parcours en largeur\n",
    "    \"\"\"Fonction renvoyant l'ensemble des acteurs à distance au plus k de l'acteur u dans le graphe G. La fonction renvoie None si u est absent du graphe.\n",
    "    \n",
    "    Parametres:\n",
    "        G: le graphe\n",
    "        u: le sommet de départ\n",
    "        k: la distance depuis u\n",
    "    \"\"\"\n",
    "    if u not in G.nodes:\n",
    "        print(u,\"est un illustre inconnu\")\n",
    "        return None\n",
    "    collaborateurs = set()\n",
    "    collaborateurs.add(u)\n",
    "    for i in range(k): # on explore les sucesseurs des successeurs et ainsi de suite à un degrès k maximum du noeud u \n",
    "        collaborateurs_directs = set()\n",
    "        for c in collaborateurs:\n",
    "            for voisin in G.adj[c]:\n",
    "                if voisin not in collaborateurs:\n",
    "                    collaborateurs_directs.add(voisin)\n",
    "        collaborateurs = collaborateurs.union(collaborateurs_directs)\n",
    "    return collaborateurs"
   ]
  },
  {
   "cell_type": "code",
   "execution_count": 48,
   "metadata": {},
   "outputs": [],
   "source": [
    "def distance_acteurs_iterative(G,u,v):\n",
    "    distance = 1\n",
    "    trouve = False\n",
    "    if u not in G.nodes or v not in G.nodes:\n",
    "        return None\n",
    "    deja_vu = []\n",
    "    collabs = collaborateurs_proches(G,u,distance)\n",
    "    while distance <= 6 and not trouve:\n",
    "        for acteur in collabs:\n",
    "            if acteur not in deja_vu:\n",
    "                if acteur == v:\n",
    "                    trouve = True\n",
    "                deja_vu.append(acteur)\n",
    "        if not trouve: # dans le cas ou v est dans la liste des collaborateurs à 1 et qu'on veut pas que ça retourne distance a 2\n",
    "            distance += 1\n",
    "        collabs = collaborateurs_proches(G,u,distance)\n",
    "    return distance"
   ]
  },
  {
   "cell_type": "code",
   "execution_count": 49,
   "metadata": {},
   "outputs": [],
   "source": [
    "def trouver_acteur_plus_central (G,acteur):\n",
    "    cpt = 0\n",
    "    for acteur2 in G.nodes():\n",
    "        if acteur != acteur2:\n",
    "            distance = distance_acteurs_iterative(G,acteur,acteur2)\n",
    "            cpt += distance\n",
    "    return cpt/len(G.nodes)-1\n"
   ]
  },
  {
   "cell_type": "code",
   "execution_count": 50,
   "metadata": {},
   "outputs": [],
   "source": [
    "def trouver_acteur_plus_central_dico (G,dico,acteur):\n",
    "    if acteur in dico.keys():\n",
    "        return dico[acteur]\n",
    "    cpt = 0\n",
    "    for acteur2 in G.nodes():\n",
    "        if acteur != acteur2:\n",
    "            distance = distance_acteurs_iterative(G,acteur,acteur2)\n",
    "            cpt += distance\n",
    "    return cpt/len(G.nodes)-1"
   ]
  },
  {
   "cell_type": "code",
   "execution_count": 51,
   "metadata": {},
   "outputs": [
    {
     "name": "stdout",
     "output_type": "stream",
     "text": [
      "5.9840182648401825\n"
     ]
    }
   ],
   "source": [
    "def distance_maximale_entre_acteurs(G):\n",
    "    distances = {}\n",
    "    for acteur in G.nodes():\n",
    "        distance = trouver_acteur_plus_central_dico(G,distances,acteur)\n",
    "        distances[acteur] = distance\n",
    "    distance_max = max(distances, key = distances.get)\n",
    "    return distances[distance_max]\n",
    "print(distance_maximale_entre_acteurs(Graphe))"
   ]
  },
  {
   "cell_type": "code",
   "execution_count": 53,
   "metadata": {},
   "outputs": [
    {
     "name": "stdout",
     "output_type": "stream",
     "text": [
      "None\n"
     ]
    }
   ],
   "source": [
    "def distance(G, u, v):\n",
    "    if u not in G.nodes or v not in G.nodes:\n",
    "        return None\n",
    "    visite = []  # liste des noeuds déjà visités\n",
    "    file = [[u]]  # queue des chemins à explorer\n",
    "    while file:\n",
    "        chemin = file.pop(0)  #premier chemin de la file d'attente\n",
    "        noeud_courant = chemin[-1]  #dernier noeud du chemin en cours\n",
    "        if noeud_courant not in visite:\n",
    "            voisins = G[noeud_courant] \n",
    "            for voisin in voisins:\n",
    "                nouveau_chemin = list(chemin)  # copie du chemin en cours\n",
    "                nouveau_chemin.append(voisin)  # ajoute le voisin au chemin\n",
    "                file.append(nouveau_chemin)  # ajoute le nouveau chemin à la file d'attente\n",
    "                if voisin == v:\n",
    "                    return len(nouveau_chemin)\n",
    "                if len(file) > G.number_of_nodes():\n",
    "                    return 0  # dans le cas ou il n'y'a pas de relations entre les 2 acteurs, on ne retourne pas None pour la condition distance > val de la fonction eloignement_max(G)\n",
    "        visite.append(noeud_courant)  # le noeud courant est compté comme visité\n",
    "\n",
    "\n",
    "def eloignement_max(G):\n",
    "    max = 0\n",
    "    val = None\n",
    "    for acteur1 in G.nodes:\n",
    "        for acteur2 in G.nodes:\n",
    "            if acteur1!= acteur2:\n",
    "                distanceinit = distance(G,acteur1,acteur2)\n",
    "                if val is None or distanceinit > val:\n",
    "                    max = distanceinit\n",
    "    return max\n",
    "print(eloignement_max(Graphe))"
   ]
  }
 ],
 "metadata": {
  "kernelspec": {
   "display_name": "Python 3",
   "language": "python",
   "name": "python3"
  },
  "language_info": {
   "codemirror_mode": {
    "name": "ipython",
    "version": 3
   },
   "file_extension": ".py",
   "mimetype": "text/x-python",
   "name": "python",
   "nbconvert_exporter": "python",
   "pygments_lexer": "ipython3",
   "version": "3.10.9"
  },
  "orig_nbformat": 4
 },
 "nbformat": 4,
 "nbformat_minor": 2
}
