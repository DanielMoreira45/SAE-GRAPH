{
 "cells": [
  {
   "cell_type": "markdown",
   "id": "77cd5116",
   "metadata": {},
   "source": [
    "# Graphes avec networkx"
   ]
  },
  {
   "cell_type": "markdown",
   "id": "06e13b6e",
   "metadata": {},
   "source": [
    "## 1 : principales méthodes pour manipuler  un graphe avec networkx \n",
    "\n",
    "Complétez :\n",
    "\n",
    "\n",
    "  Fonction          |           Rôle\n",
    "--------------------|----------------------------------------\n",
    "G.add_edge(S1, S2)  |  Ajouter une arête à G entre s1 et q2\n",
    "G.add_node(Noeud)   | Ajoute un noueg a G\n",
    "G.remove_node(Noeud)| enlève un sommet a G\n",
    "$G[Sommet]$         | Voisins de sommet dans G\n",
    "G.nodes()           | Les sommets de G\n",
    "nx.draw(G)          | dessine G\n",
    "G.add_edges_from([(S1,S2), ... , (Sp, Sq)] | Ajoute "
   ]
  },
  {
   "cell_type": "code",
   "execution_count": 7,
   "id": "c7f5643a",
   "metadata": {},
   "outputs": [],
   "source": [
    "import networkx as nx"
   ]
  },
  {
   "cell_type": "code",
   "execution_count": 20,
   "id": "fff46689",
   "metadata": {},
   "outputs": [
    {
     "name": "stdout",
     "output_type": "stream",
     "text": [
      "\n"
     ]
    },
    {
     "data": {
      "image/png": "[encoded data removed]",
      "text/plain": [
       "<Figure size 432x288 with 1 Axes>"
      ]
     },
     "metadata": {},
     "output_type": "display_data"
    }
   ],
   "source": [
    "# Rappels dessins de Graphes\n",
    "G = nx.Graph()\n",
    "G.add_edges_from([(6,4),(4,3),(3,5), (5,2),(2,6)])\n",
    "G.add_edge(2,5)\n",
    "\n",
    "options = {\n",
    "    'with_labels': True,\n",
    "    'node_size': 1500,\n",
    "    'node_color': \"skyblue\",\n",
    "    'node_shape': \"s\", \n",
    "    'alpha': 0.5, \n",
    "    'linewidths': 10\n",
    "}\n",
    "nx.draw(G, **options)"
   ]
  },
  {
   "cell_type": "code",
   "execution_count": 9,
   "id": "090b8a46",
   "metadata": {},
   "outputs": [
    {
     "data": {
      "image/png": "[encoded data removed]",
      "text/plain": [
       "<Figure size 432x288 with 1 Axes>"
      ]
     },
     "metadata": {},
     "output_type": "display_data"
    }
   ],
   "source": [
    "# En sauvegardant dans un fichier le graphe dessiné\n",
    "import matplotlib.pyplot as plt\n",
    "fig = plt.figure()\n",
    "nx.draw(G, **options)\n",
    "fig.savefig(\"G12.png\")"
   ]
  },
  {
   "cell_type": "markdown",
   "id": "d0a5d745",
   "metadata": {},
   "source": [
    "## 2 Quelques fonctions sur les graphes"
   ]
  },
  {
   "cell_type": "markdown",
   "id": "de20aa57",
   "metadata": {},
   "source": [
    "### 2.1\tEcrire une fonction qui prend en  entrée un  graphe  et  un sommet  et  renvoie  le degré de ce sommet"
   ]
  },
  {
   "cell_type": "code",
   "execution_count": 18,
   "id": "b0798020",
   "metadata": {},
   "outputs": [
    {
     "name": "stdout",
     "output_type": "stream",
     "text": [
      "\n"
     ]
    }
   ],
   "source": [
    "# Exo 2.1\n",
    "def degre(G,x):\n",
    "    return len(G[X])\n",
    "\n",
    "print(degre(G,4))"
   ]
  },
  {
   "cell_type": "code",
   "execution_count": 14,
   "id": "884589c0",
   "metadata": {},
   "outputs": [
    {
     "data": {
      "text/plain": [
       "2"
      ]
     },
     "execution_count": 14,
     "metadata": {},
     "output_type": "execute_result"
    }
   ],
   "source": [
    "# avec nx :\n",
    "\n",
    "G.degree(4)"
   ]
  },
  {
   "cell_type": "markdown",
   "id": "02c84798",
   "metadata": {},
   "source": [
    "### 2.2 Ecrire de 3 façons une fonction qui prend en entrée un graphe et 2 sommets et renvoie vrai s’il y a une arête entre les deux."
   ]
  },
  {
   "cell_type": "code",
   "execution_count": 31,
   "id": "35e27d38",
   "metadata": {},
   "outputs": [
    {
     "name": "stdout",
     "output_type": "stream",
     "text": [
      "True\n",
      "True\n"
     ]
    }
   ],
   "source": [
    "# Exo 2.2\n",
    "def edge_in(G,x,y):\n",
    "    return G.has_edge(x, y)\n",
    "\n",
    "print(edge_in(G,3,4))\n",
    "\n",
    "def arete_existe(G,x,y):\n",
    "    return y in G.neighbors(x)\n",
    "\n",
    "\n",
    "print(arete_existe(G,3,4))\n",
    "\n",
    "def possede_arete(G,x,y):\n",
    "    if (x, y) in G.edges():\n",
    "        return True\n",
    "    return False\n",
    "    \n"
   ]
  },
  {
   "cell_type": "markdown",
   "id": "23965d2d",
   "metadata": {},
   "source": [
    "### 2.3\tEcrire de 2 façons une fonction qui prend en entrée un graphe et renvoie le nombre total d’arêtes dans G"
   ]
  },
  {
   "cell_type": "code",
   "execution_count": 42,
   "id": "3afbf94f",
   "metadata": {},
   "outputs": [
    {
     "name": "stdout",
     "output_type": "stream",
     "text": [
      "5\n",
      "5\n"
     ]
    }
   ],
   "source": [
    "# Exo 2.3\n",
    "\n",
    "def nb_edges(G):\n",
    "    return G.number_of_edges()\n",
    "\n",
    "def nb_aretes(G):\n",
    "    res = 0\n",
    "    for i in G.nodes():\n",
    "        res += len(G[i])\n",
    "    return res//2\n",
    "\n",
    "print(nb_edges(G))\n",
    "print(nb_aretes(G))"
   ]
  },
  {
   "cell_type": "markdown",
   "id": "4038d7ec",
   "metadata": {},
   "source": [
    "### 2.4 Vérifier expérimentalement la formule qui relie les degrés des sommets et le nombre d'arêtes dans un graphe G"
   ]
  },
  {
   "cell_type": "code",
   "execution_count": 53,
   "id": "4e587a79",
   "metadata": {},
   "outputs": [],
   "source": [
    "def nb_aretes(G):\n",
    "    res = 0\n",
    "    for i in G.nodes():\n",
    "        res += len(G[i])\n",
    "    return res//2\n",
    "assert 2*len(G.edges) == sum(G.degree(v) for v in G.nodes)"
   ]
  },
  {
   "cell_type": "markdown",
   "id": "7f3f5a90",
   "metadata": {},
   "source": [
    "### Quel est le noeud de degré maximal dans G ?"
   ]
  },
  {
   "cell_type": "code",
   "execution_count": 64,
   "id": "aaefef02",
   "metadata": {},
   "outputs": [
    {
     "name": "stdout",
     "output_type": "stream",
     "text": [
      "6\n"
     ]
    }
   ],
   "source": [
    "def noeud_maximal(G):\n",
    "    res = 0\n",
    "    max = None\n",
    "    for i in G.nodes():\n",
    "        if len(G[i]) > res or max is None:\n",
    "            res = len(G[i])\n",
    "            max = i\n",
    "    return max\n",
    "\n",
    "max(G.degree(v) for v in G.nodes)\n",
    "\n",
    "print(noeud_maximal(G))"
   ]
  },
  {
   "cell_type": "markdown",
   "id": "2a71acdb",
   "metadata": {},
   "source": [
    "## 3. Parcours de graphes"
   ]
  },
  {
   "cell_type": "markdown",
   "id": "b7165642",
   "metadata": {},
   "source": [
    "Plusieurs applications sur les graphes nécessitent un examen exhaustif des sommets et des arrêtes du graphe. Autrement dit, nous avons besoin de parcourir  le graphe. Deux parcours classiques sont à connaître :\n",
    " \n",
    "1. Parcours  en  **profondeur  (DFS =  Depth-First Search)**  :  à  partir  d’un  sommet  donné  S, suivre le chemin le plus loin possible (explorer un fils de S, le fils du fils de S, etc), puis faire des retours en arrière pour reprendre tous les chemins ignorés précédemment. Le parcours en profondeur s'écrit naturellement de manière **récursive**\n",
    "\n",
    "2.\tParcours en **largeur (BFS - Breadth-First Search)** : à partir d’un sommet donné, explorer ses successeurs, puis les successeurs non explorés des successeurs, etc.\n"
   ]
  },
  {
   "cell_type": "code",
   "execution_count": 75,
   "id": "6071395d",
   "metadata": {
    "scrolled": true
   },
   "outputs": [
    {
     "data": {
      "image/png": "[encoded data removed]",
      "text/plain": [
       "<Figure size 432x288 with 1 Axes>"
      ]
     },
     "metadata": {},
     "output_type": "display_data"
    }
   ],
   "source": [
    "G1 = nx.Graph()\n",
    "G1.add_edges_from([(1,4),(4,2),(4,3),(4,5),(5,6),(2,7)])\n",
    "nx.draw(G1, **options)"
   ]
  },
  {
   "cell_type": "markdown",
   "id": "cb97c074",
   "metadata": {},
   "source": [
    "### 3.1 Donner les parcours en profondeur et en largeur en partant du sommet 4 de G1"
   ]
  },
  {
   "cell_type": "markdown",
   "id": "41c4947e",
   "metadata": {},
   "source": [
    "### 3.2 Première tentative\n",
    "Quel est le problème avec la tentative suivante ?"
   ]
  },
  {
   "cell_type": "code",
   "execution_count": 66,
   "id": "8c84850d",
   "metadata": {},
   "outputs": [],
   "source": [
    "# tentative de parcours \n",
    "def parcours0(graphe, depart):\n",
    "    pile = [depart]\n",
    "    while (len(pile)>0):\n",
    "        noeud_courant = pile.pop()\n",
    "        print(noeud_courant)\n",
    "        for noeud in graphe[noeud_courant]:\n",
    "            pile.append(noeud)"
   ]
  },
  {
   "cell_type": "code",
   "execution_count": 65,
   "id": "7ab99135",
   "metadata": {},
   "outputs": [
    {
     "ename": "NameError",
     "evalue": "name 'parcours0' is not defined",
     "output_type": "error",
     "traceback": [
      "\u001b[0;31m---------------------------------------------------------------------------\u001b[0m",
      "\u001b[0;31mNameError\u001b[0m                                 Traceback (most recent call last)",
      "\u001b[0;32m/tmp/ipykernel_8893/3012486553.py\u001b[0m in \u001b[0;36m<module>\u001b[0;34m\u001b[0m\n\u001b[1;32m      1\u001b[0m \u001b[0;31m# Parcours infini : pas de terminaison\u001b[0m\u001b[0;34m\u001b[0m\u001b[0;34m\u001b[0m\u001b[0m\n\u001b[0;32m----> 2\u001b[0;31m \u001b[0mparcours0\u001b[0m\u001b[0;34m(\u001b[0m\u001b[0mG1\u001b[0m\u001b[0;34m,\u001b[0m\u001b[0;36m4\u001b[0m\u001b[0;34m)\u001b[0m\u001b[0;34m\u001b[0m\u001b[0;34m\u001b[0m\u001b[0m\n\u001b[0m",
      "\u001b[0;31mNameError\u001b[0m: name 'parcours0' is not defined"
     ]
    }
   ],
   "source": [
    "# Parcours infini : pas de terminaison\n",
    "parcours0(G1,4)"
   ]
  },
  {
   "cell_type": "markdown",
   "id": "060d4bc4",
   "metadata": {},
   "source": [
    "### 3.3 Proposez maintenant une version itérative du parcours en profondeur (DFS)"
   ]
  },
  {
   "cell_type": "code",
   "execution_count": 89,
   "id": "9d5286fb",
   "metadata": {},
   "outputs": [],
   "source": [
    "# iterative\n",
    "def parcours(G,a):\n",
    "    pile = [a]\n",
    "    atteint = [a]\n",
    "    while pile:\n",
    "        courant = pile.pop()\n",
    "        for noeuds in G[courant]:\n",
    "            if noeuds not in atteint:\n",
    "\n",
    "                pile.append(noeuds)\n",
    "                atteint.append(noeuds)\n",
    "    return atteint\n",
    "            \n",
    "        "
   ]
  },
  {
   "cell_type": "code",
   "execution_count": 88,
   "id": "82c4a9c9",
   "metadata": {},
   "outputs": [
    {
     "name": "stdout",
     "output_type": "stream",
     "text": [
      "1\n",
      "2\n",
      "3\n",
      "5\n",
      "6\n",
      "7\n"
     ]
    },
    {
     "data": {
      "text/plain": [
       "[4, 1, 2, 3, 5, 6, 7]"
      ]
     },
     "execution_count": 88,
     "metadata": {},
     "output_type": "execute_result"
    }
   ],
   "source": [
    "parcours(G1,4)"
   ]
  },
  {
   "cell_type": "markdown",
   "id": "5a35854c",
   "metadata": {},
   "source": [
    "### 3.4 Puis une version récursive du DFS"
   ]
  },
  {
   "cell_type": "code",
   "execution_count": 100,
   "id": "5d014715",
   "metadata": {},
   "outputs": [],
   "source": [
    "# récursive\n",
    "def dfs_rec(G, depart, visités=None):\n",
    "    if visités is None:\n",
    "        visités = set()\n",
    "    visités.add(depart)\n",
    "    for noeuds in G[depart]:\n",
    "        if noeuds not in visités:\n",
    "            dfs_rec(G,noeuds,visités)\n",
    "            \n",
    "    return visités\n",
    "\n",
    "            \n"
   ]
  },
  {
   "cell_type": "code",
   "execution_count": 101,
   "id": "21504c92",
   "metadata": {},
   "outputs": [
    {
     "data": {
      "text/plain": [
       "{1, 2, 3, 4, 5, 6, 7}"
      ]
     },
     "execution_count": 101,
     "metadata": {},
     "output_type": "execute_result"
    }
   ],
   "source": [
    "dfs_rec(G1,4)"
   ]
  },
  {
   "cell_type": "code",
   "execution_count": null,
   "id": "157bd944",
   "metadata": {},
   "outputs": [],
   "source": [
    "def est_chemin(G, liste):\n",
    "    \"\"\"\n",
    "    existe t-il toujours une arêtes oiyr 2 sillets consécutifs de la liste ?\"\"\"\n",
    "    for i in range(len(liste)-1):\n",
    "        if liste[i+1] in G[liste[i]]:\n",
    "            return False\n",
    "        return True"
   ]
  }
 ],
 "metadata": {
  "kernelspec": {
   "display_name": "Python 3 (ipykernel)",
   "language": "python",
   "name": "python3"
  },
  "language_info": {
   "codemirror_mode": {
    "name": "ipython",
    "version": 3
   },
   "file_extension": ".py",
   "mimetype": "text/x-python",
   "name": "python",
   "nbconvert_exporter": "python",
   "pygments_lexer": "ipython3",
   "version": "3.10.6"
  }
 },
 "nbformat": 4,
 "nbformat_minor": 5
}
